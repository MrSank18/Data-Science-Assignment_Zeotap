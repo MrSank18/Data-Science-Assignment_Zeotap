{
 "cells": [
  {
   "cell_type": "markdown",
   "id": "bc0ece38",
   "metadata": {},
   "source": [
    "# Sanket Aasabe EDA\n",
    "\n",
    "Exploratory Data Analysis on E-Commerce Transactions Dataset."
   ]
  },
  {
   "cell_type": "code",
   "execution_count": null,
   "id": "fcc32aeb",
   "metadata": {},
   "outputs": [],
   "source": [
    "import pandas as pd\n",
    "import matplotlib.pyplot as plt\n",
    "import seaborn as sns"
   ]
  },
  {
   "cell_type": "markdown",
   "id": "e19bc8e5",
   "metadata": {},
   "source": [
    "## Load Datasets"
   ]
  },
  {
   "cell_type": "code",
   "execution_count": null,
   "id": "ab47f85a",
   "metadata": {},
   "outputs": [],
   "source": [
    "customers_df = pd.read_csv('Customers.csv')\n",
    "products_df = pd.read_csv('Products.csv')\n",
    "transactions_df = pd.read_csv('Transactions.csv')"
   ]
  },
  {
   "cell_type": "markdown",
   "id": "c62f4803",
   "metadata": {},
   "source": [
    "## Check for Missing Values"
   ]
  },
  {
   "cell_type": "code",
   "execution_count": null,
   "id": "1f9d2252",
   "metadata": {},
   "outputs": [],
   "source": [
    "print(\"Customers Missing Values:\\n\", customers_df.isnull().sum())\n",
    "print(\"Products Missing Values:\\n\", products_df.isnull().sum())\n",
    "print(\"Transactions Missing Values:\\n\", transactions_df.isnull().sum())"
   ]
  },
  {
   "cell_type": "markdown",
   "id": "70bf5a83",
   "metadata": {},
   "source": [
    "## Analyze Customer Regions"
   ]
  },
  {
   "cell_type": "code",
   "execution_count": null,
   "id": "89ddcb9c",
   "metadata": {},
   "outputs": [],
   "source": [
    "sns.countplot(y='Region', data=customers_df, order=customers_df['Region'].value_counts().index)\n",
    "plt.title(\"Customer Distribution by Region\")\n",
    "plt.show()"
   ]
  },
  {
   "cell_type": "markdown",
   "id": "571c75c7",
   "metadata": {},
   "source": [
    "## Analyze Product Categories"
   ]
  },
  {
   "cell_type": "code",
   "execution_count": null,
   "id": "8d2cd89d",
   "metadata": {},
   "outputs": [],
   "source": [
    "sns.countplot(y='Category', data=products_df, order=products_df['Category'].value_counts().index)\n",
    "plt.title(\"Product Distribution by Category\")\n",
    "plt.show()"
   ]
  },
  {
   "cell_type": "markdown",
   "id": "c49f3cf3",
   "metadata": {},
   "source": [
    "## Monthly Transaction Trends"
   ]
  },
  {
   "cell_type": "code",
   "execution_count": null,
   "id": "14c51475",
   "metadata": {},
   "outputs": [],
   "source": [
    "transactions_df['TransactionDate'] = pd.to_datetime(transactions_df['TransactionDate'])\n",
    "transactions_df['TransactionMonth'] = transactions_df['TransactionDate'].dt.to_period('M')\n",
    "monthly_transactions = transactions_df.groupby('TransactionMonth').size()\n",
    "monthly_transactions.plot(kind='bar', color='teal', alpha=0.7)\n",
    "plt.title(\"Monthly Transaction Volume\")\n",
    "plt.xlabel(\"Month\")\n",
    "plt.ylabel(\"Number of Transactions\")\n",
    "plt.show()"
   ]
  }
 ],
 "metadata": {},
 "nbformat": 4,
 "nbformat_minor": 5
}
