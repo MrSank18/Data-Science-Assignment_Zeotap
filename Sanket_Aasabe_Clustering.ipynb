{
 "cells": [
  {
   "cell_type": "markdown",
   "id": "40e083d0",
   "metadata": {},
   "source": [
    "# Sanket Aasabe Clustering\n",
    "\n",
    "Customer Segmentation using Clustering Techniques."
   ]
  },
  {
   "cell_type": "code",
   "execution_count": null,
   "id": "62aa543c",
   "metadata": {},
   "outputs": [],
   "source": [
    "import pandas as pd\n",
    "import matplotlib.pyplot as plt\n",
    "import seaborn as sns\n",
    "from sklearn.preprocessing import StandardScaler\n",
    "from sklearn.cluster import KMeans\n",
    "from sklearn.metrics import davies_bouldin_score\n",
    "from sklearn.decomposition import PCA"
   ]
  },
  {
   "cell_type": "markdown",
   "id": "830443ff",
   "metadata": {},
   "source": [
    "## Load and Preprocess Data"
   ]
  },
  {
   "cell_type": "code",
   "execution_count": null,
   "id": "b6124286",
   "metadata": {},
   "outputs": [],
   "source": [
    "# Load datasets\n",
    "customers_df = pd.read_csv('Customers.csv')\n",
    "transactions_df = pd.read_csv('Transactions.csv')\n",
    "\n",
    "# Preprocess data\n",
    "transactions_df['TransactionDate'] = pd.to_datetime(transactions_df['TransactionDate'])"
   ]
  },
  {
   "cell_type": "markdown",
   "id": "f2d4b113",
   "metadata": {},
   "source": [
    "## Perform Customer Segmentation"
   ]
  },
  {
   "cell_type": "code",
   "execution_count": null,
   "id": "ef0b3c7c",
   "metadata": {},
   "outputs": [],
   "source": [
    "# Merge datasets\n",
    "merged_df = transactions_df.merge(customers_df, on='CustomerID', how='left')\n",
    "customer_summary = merged_df.groupby('CustomerID').agg({\n",
    "    'Region': 'first',\n",
    "    'TotalValue': 'sum',\n",
    "    'Quantity': 'sum'\n",
    "}).reset_index()\n",
    "\n",
    "# Encode region\n",
    "encoded_df = pd.get_dummies(customer_summary[['Region']])\n",
    "encoded_df['TotalValue'] = customer_summary['TotalValue']\n",
    "encoded_df['Quantity'] = customer_summary['Quantity']\n",
    "\n",
    "# Normalize data\n",
    "scaler = StandardScaler()\n",
    "normalized_data = scaler.fit_transform(encoded_df)\n",
    "\n",
    "# Perform clustering\n",
    "k_values = range(2, 11)\n",
    "db_scores = []\n",
    "kmeans_models = {}\n",
    "\n",
    "for k in k_values:\n",
    "    kmeans = KMeans(n_clusters=k, random_state=42)\n",
    "    kmeans.fit(normalized_data)\n",
    "    kmeans_models[k] = kmeans\n",
    "    db_scores.append(davies_bouldin_score(normalized_data, kmeans.labels_))\n",
    "\n",
    "# Optimal number of clusters\n",
    "optimal_k = k_values[db_scores.index(min(db_scores))]\n",
    "optimal_model = kmeans_models[optimal_k]\n",
    "customer_summary['Cluster'] = optimal_model.labels_\n",
    "\n",
    "# Visualize clusters\n",
    "pca = PCA(n_components=2)\n",
    "pca_data = pca.fit_transform(normalized_data)\n",
    "\n",
    "plt.figure(figsize=(10, 7))\n",
    "sns.scatterplot(x=pca_data[:, 0], y=pca_data[:, 1], hue=customer_summary['Cluster'], palette=\"tab10\", s=50)\n",
    "plt.title(f\"Customer Clusters (Optimal K = {optimal_k})\")\n",
    "plt.xlabel(\"PCA Component 1\")\n",
    "plt.ylabel(\"PCA Component 2\")\n",
    "plt.legend(title=\"Cluster\", bbox_to_anchor=(1.05, 1), loc='upper left')\n",
    "plt.show()\n",
    "\n",
    "# Save results\n",
    "customer_summary[['CustomerID', 'Cluster']].to_csv('Sanket_Aasabe_Clustering.csv', index=False)\n",
    "print(f\"Customer Segmentation completed. Optimal Clusters: {optimal_k}, DB Index: {min(db_scores)}\")"
   ]
  }
 ],
 "metadata": {},
 "nbformat": 4,
 "nbformat_minor": 5
}
