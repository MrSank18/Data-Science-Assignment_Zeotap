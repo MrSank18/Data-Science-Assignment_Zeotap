{
 "cells": [
  {
   "cell_type": "markdown",
   "id": "b458ccf4",
   "metadata": {},
   "source": [
    "# Sanket Aasabe Lookalike Model\n",
    "\n",
    "Recommendation system to find similar customers."
   ]
  },
  {
   "cell_type": "code",
   "execution_count": null,
   "id": "cf14a0fb",
   "metadata": {},
   "outputs": [],
   "source": [
    "import pandas as pd\n",
    "from sklearn.metrics.pairwise import cosine_similarity\n",
    "from sklearn.preprocessing import StandardScaler"
   ]
  },
  {
   "cell_type": "markdown",
   "id": "52212a3e",
   "metadata": {},
   "source": [
    "## Load and Merge Data"
   ]
  },
  {
   "cell_type": "code",
   "execution_count": null,
   "id": "1895e4e1",
   "metadata": {},
   "outputs": [],
   "source": [
    "customers_df = pd.read_csv('Customers.csv')\n",
    "products_df = pd.read_csv('Products.csv')\n",
    "transactions_df = pd.read_csv('Transactions.csv')\n",
    "\n",
    "merged_df = transactions_df.merge(customers_df, on='CustomerID', how='left').merge(products_df, on='ProductID', how='left')"
   ]
  },
  {
   "cell_type": "markdown",
   "id": "4de7825f",
   "metadata": {},
   "source": [
    "## Feature Engineering"
   ]
  },
  {
   "cell_type": "code",
   "execution_count": null,
   "id": "aacb9589",
   "metadata": {},
   "outputs": [],
   "source": [
    "customer_summary = merged_df.groupby('CustomerID').agg({\n",
    "    'Region': 'first',\n",
    "    'Category': lambda x: ', '.join(x.unique()),\n",
    "    'TotalValue': 'sum',\n",
    "    'Quantity': 'sum'\n",
    "}).reset_index()\n",
    "\n",
    "encoded_df = pd.get_dummies(customer_summary[['Region', 'Category']])\n",
    "encoded_df['TotalValue'] = customer_summary['TotalValue']\n",
    "encoded_df['Quantity'] = customer_summary['Quantity']"
   ]
  },
  {
   "cell_type": "markdown",
   "id": "8b4b4742",
   "metadata": {},
   "source": [
    "## Similarity Calculation"
   ]
  },
  {
   "cell_type": "code",
   "execution_count": null,
   "id": "67ff67e4",
   "metadata": {},
   "outputs": [],
   "source": [
    "scaler = StandardScaler()\n",
    "normalized_data = scaler.fit_transform(encoded_df)\n",
    "similarity_matrix = cosine_similarity(normalized_data)\n",
    "\n",
    "def recommend_similar(customers, similarity_matrix, customer_summary):\n",
    "    recommendations = {}\n",
    "    for idx, customer_id in enumerate(customers):\n",
    "        similarity_scores = list(enumerate(similarity_matrix[idx]))\n",
    "        similarity_scores = sorted(similarity_scores, key=lambda x: x[1], reverse=True)\n",
    "        similar_customers = [\n",
    "            (customer_summary['CustomerID'][sim_idx], score)\n",
    "            for sim_idx, score in similarity_scores[1:4]\n",
    "        ]\n",
    "        recommendations[customer_id] = similar_customers\n",
    "    return recommendations\n",
    "\n",
    "top_customers = customer_summary['CustomerID'][:20]\n",
    "lookalike_results = recommend_similar(top_customers, similarity_matrix, customer_summary)\n",
    "lookalike_results"
   ]
  }
 ],
 "metadata": {},
 "nbformat": 4,
 "nbformat_minor": 5
}
